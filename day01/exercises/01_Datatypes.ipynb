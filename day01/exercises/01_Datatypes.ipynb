{
 "cells": [
  {
   "cell_type": "markdown",
   "metadata": {},
   "source": [
    "# Datatypes exercises"
   ]
  },
  {
   "cell_type": "markdown",
   "metadata": {},
   "source": [
    "## Exercise 1"
   ]
  },
  {
   "cell_type": "markdown",
   "metadata": {},
   "source": [
    "Write the following mathematical formula in Python:\n",
    "\n",
    "\\begin{align}\n",
    " result = 6a^3 - \\frac{8b^2 }{4c} + 11\n",
    "\\end{align}\n",
    "\n",
    "```python\n",
    "a = 2\n",
    "b = 3\n",
    "c = 2\n",
    "```\n",
    "\n",
    "> write your formula as \n",
    "```python\n",
    "result = \n",
    "```\n",
    "\n",
    "It must verify\n",
    "```python\n",
    ">>> assert result == 50"
   ]
  },
  {
   "cell_type": "code",
   "execution_count": 1,
   "metadata": {},
   "outputs": [],
   "source": [
    "a = 2\n",
    "b = 3\n",
    "c = 2\n",
    "result = 6*(a**3)-(8*b**2)/(4*c)+11\n"
   ]
  },
  {
   "cell_type": "code",
   "execution_count": 2,
   "metadata": {},
   "outputs": [],
   "source": [
    "assert result == 50"
   ]
  },
  {
   "cell_type": "markdown",
   "metadata": {},
   "source": [
    "## Exercise 2"
   ]
  },
  {
   "cell_type": "markdown",
   "metadata": {},
   "source": [
    "Explain why the folowing assertion fails"
   ]
  },
  {
   "cell_type": "raw",
   "metadata": {},
   "source": [
    "assert (0.1 + 0.2 == 0.3) # will cause assertion error"
   ]
  },
  {
   "cell_type": "markdown",
   "metadata": {},
   "source": [
    "The above assertion fails beacuse because 0.1 + 0.2 don't give exactly 3.0 like analytics approach.\n",
    "0.1+0.2 gives a number close to 3.0 but not exactly 3.0 beacuse of the way python manage number of type float."
   ]
  },
  {
   "cell_type": "markdown",
   "metadata": {},
   "source": [
    "## Exercise 3"
   ]
  },
  {
   "cell_type": "markdown",
   "metadata": {},
   "source": [
    "Write a Python program to sum all the items in a list"
   ]
  },
  {
   "cell_type": "code",
   "execution_count": 3,
   "metadata": {},
   "outputs": [],
   "source": [
    "#Code Here\n",
    "def sum_list(L):\n",
    "     sum = 0\n",
    "     for i in L:\n",
    "        sum = sum+i\n",
    "\n",
    "     return sum\n",
    "assert sum_list([10, 20, -1]) == 29"
   ]
  },
  {
   "cell_type": "markdown",
   "metadata": {},
   "source": [
    "## Exercise 4"
   ]
  },
  {
   "cell_type": "markdown",
   "metadata": {},
   "source": [
    "Write a program that asks how long it took to run 10 km today. The program continues to ask how long (in minutes) it took for additional runs, until the user enters q. At that point, the program exits — but only after calculating and displaying the average time that the 10 km run took.  \n",
    "\n",
    "\n",
    "Example:\n",
    "```\n",
    "Enter 10 km run time: 15\n",
    "Enter 10 km run time: 20\n",
    "Enter 10 km run time: 10\n",
    "Enter 10 km run time: q\n",
    "\n",
    "Average of 15.0, over 3 runs\n",
    "```"
   ]
  },
  {
   "cell_type": "code",
   "execution_count": 4,
   "metadata": {},
   "outputs": [
    {
     "name": "stdout",
     "output_type": "stream",
     "text": [
      "Enter 10 km run time: 20\n",
      "Enter 10 km run time: 15\n",
      "Enter 10 km run time: 10\n",
      "Enter 10 km run time: q\n",
      "Average of 15.0 , over 3 runs\n"
     ]
    }
   ],
   "source": [
    "a = 3.0 \n",
    "b = 5\n",
    "def how_long():\n",
    "    summ = 0\n",
    "    compteur = 0\n",
    "    while True:\n",
    "        km = input('Enter 10 km run time: ')\n",
    "        if km == 'q':\n",
    "            print(\"Average of {} , over {} runs\".format(summ/compteur,compteur))\n",
    "            return\n",
    "        summ = summ + int(km)\n",
    "        compteur = compteur + 1\n",
    "\n",
    "how_long()\n",
    "       \n",
    "            "
   ]
  },
  {
   "cell_type": "markdown",
   "metadata": {},
   "source": [
    "## Exercise 5"
   ]
  },
  {
   "cell_type": "markdown",
   "metadata": {},
   "source": [
    "Write a function that takes a string and returns the sorted string."
   ]
  },
  {
   "cell_type": "code",
   "execution_count": 5,
   "metadata": {},
   "outputs": [],
   "source": [
    "def sort_string(s):\n",
    "    # Code Here\n",
    "    \"\"\"\n",
    "    sorting_string(s) take a string and returns the sorted string\n",
    "    \"\"\"\n",
    "    L = []\n",
    "    for i in s:\n",
    "        L.append(i)\n",
    "    \n",
    "    for i in range(1, len(L)): \n",
    "        k = L[i] \n",
    "        j = i-1\n",
    "        while j >= 0 and k <= L[j] : \n",
    "                L[j + 1] = L[j] \n",
    "                j -= 1\n",
    "        L[j + 1] = k\n",
    "    s1 = \"\".join(L)\n",
    "    return s1\n",
    "\n",
    "assert sort_string(\"cab\") == \"abc\""
   ]
  },
  {
   "cell_type": "markdown",
   "metadata": {},
   "source": [
    "## Exercise 6"
   ]
  },
  {
   "cell_type": "markdown",
   "metadata": {},
   "source": [
    "Write a function that take a string of multiple words and returns the position of the word with most repeated letters"
   ]
  },
  {
   "cell_type": "code",
   "execution_count": 6,
   "metadata": {},
   "outputs": [],
   "source": [
    "def wwmrl(s):\n",
    "    #Code Here\n",
    "    global_appear = 0\n",
    "    for word in s:\n",
    "        word_appear = 0\n",
    "        for i in range(0, len(word)-1):\n",
    "            letter_appear = 0\n",
    "            for j in range(i+1, len(word)-1):\n",
    "                #There we suppose that if a letter appear again it \n",
    "                #will have less appearence than the first time we find it in a \n",
    "                #word\n",
    "                if word[i] == word[j]:\n",
    "                    letter_appear +=1\n",
    "            if letter_appear > word_appear:\n",
    "                word_appear = letter_appear\n",
    "        if word_appear > global_appear:\n",
    "            global_appear = word_appear\n",
    "            position = s.index(word) #this command return the position of current word with most repeated letter appearence\n",
    "    return position\n",
    "    \n",
    "            \n",
    "     \n",
    "assert wwmrl(['this', 'is', 'an', 'elementary', 'test', 'example']) == 3"
   ]
  },
  {
   "cell_type": "markdown",
   "metadata": {},
   "source": [
    "## Exercise 7"
   ]
  },
  {
   "cell_type": "markdown",
   "metadata": {},
   "source": [
    "1. Create a tuple\n",
    "2. Unpack the tuple in multiple variables"
   ]
  },
  {
   "cell_type": "code",
   "execution_count": 7,
   "metadata": {},
   "outputs": [],
   "source": [
    "# Make the tuple.\n",
    "t = (123, 2.0, 'QFM')\n",
    "\n",
    "\n",
    "# Unpack the tuple into individual variables.\n",
    "(x, y, z) = t\n"
   ]
  },
  {
   "cell_type": "markdown",
   "metadata": {},
   "source": [
    "## Exercise 8"
   ]
  },
  {
   "cell_type": "markdown",
   "metadata": {},
   "source": [
    "Write a Python program to sort a tuple by its float element.  \n",
    "Sample data: `[('item1', '12.20'), ('item2', '15.10'), ('item3', '24.5')]`  \n",
    "Expected Output: `[('item3', '24.5'), ('item2', '15.10'), ('item1', '12.20')]`"
   ]
  },
  {
   "cell_type": "code",
   "execution_count": 8,
   "metadata": {},
   "outputs": [
    {
     "name": "stdout",
     "output_type": "stream",
     "text": [
      "[('item3', '24.5'), ('item2', '15.10'), ('item1', '12.20')]\n"
     ]
    }
   ],
   "source": [
    "t = [('item1', '12.20'), ('item2', '15.10'), ('item3', '24.5')]\n",
    "def sort_tuple(t):\n",
    "    \"\"\"\n",
    "    this function takes a list of tuples and gives a sorted list by the float element.\n",
    "    First we put float element in a list type and we will sort the list of float, and we will make sure that \n",
    "    we sort simultanously the list of tuple\n",
    "    \"\"\"\n",
    "    L =[]\n",
    "    for i in range(0, len(t)):\n",
    "        (_, k) = t[i]\n",
    "        L.append(float(k))  \n",
    "    for i in range(1,len(t)):\n",
    "        k = t[i] \n",
    "        kval = L[i]\n",
    "        j = i-1\n",
    "        while j >= 0 and kval >= L[j] : \n",
    "                L[j+1] = L[j]\n",
    "                t[j + 1] = t[j] \n",
    "                j -= 1\n",
    "        L[j+1] = kval\n",
    "        t[j + 1] = k\n",
    "    print(t)\n",
    "sort_tuple(t)"
   ]
  },
  {
   "cell_type": "markdown",
   "metadata": {},
   "source": [
    "## Exercise 9"
   ]
  },
  {
   "cell_type": "markdown",
   "metadata": {},
   "source": [
    "Write a Python script to concatenate dictionaries to create a new one."
   ]
  },
  {
   "cell_type": "code",
   "execution_count": 9,
   "metadata": {},
   "outputs": [
    {
     "name": "stdout",
     "output_type": "stream",
     "text": [
      "{1: 10, 2: 20, 3: 30, 4: 40, 5: 50, 6: 60}\n"
     ]
    }
   ],
   "source": [
    "\"\"\"Sample Dictionary\"\"\"\n",
    "dic1={1:10, 2:20}\n",
    "dic2={3:30, 4:40}\n",
    "dic3={5:50,6:60}\n",
    "\"\"\"\"Expected Result : {1: 10, 2: 20, 3: 30, 4: 40, 5: 50, 6: 60}\"\"\"\n",
    "\n",
    "dic = dict(dic1)\n",
    "for d in (dic2,dic3): dic.update(d)\n",
    "print(dic)"
   ]
  },
  {
   "cell_type": "markdown",
   "metadata": {},
   "source": [
    "## Exercise 10"
   ]
  },
  {
   "cell_type": "markdown",
   "metadata": {},
   "source": [
    "Write a Python program to combine two dictionary adding values for common keys."
   ]
  },
  {
   "cell_type": "code",
   "execution_count": 10,
   "metadata": {},
   "outputs": [
    {
     "name": "stdout",
     "output_type": "stream",
     "text": [
      "{'a': 100, 'd': 400, 'e': 500, 'b': 200, 'c': 300}\n"
     ]
    }
   ],
   "source": [
    "d1 = {'a': 100, 'b': 200, 'c':300}\n",
    "d2 = {'a': 300, 'b': 200, 'd':400, 'e': 500}\n",
    "\"\"\"\"Sample output: {'a': 400, 'b': 400, 'd': 400, 'c': 300}\"\"\"\n",
    "\n",
    "dic = {}\n",
    "for (key1, val1) in d1.items():\n",
    "    if key1 in d1.keys():\n",
    "        for (key2, val2) in d2.items():\n",
    "            if key1 == key2 :\n",
    "                dic[key1] = val1 + val2\n",
    "            \n",
    "            if key2 not in d1.keys():\n",
    "                dic[key2] = val2\n",
    "                \n",
    "    if key1 not in d2.items():\n",
    "        dic[key1] = val1\n",
    "\n",
    "        \n",
    "        \n",
    "    \n",
    "print(dic)\n",
    "    "
   ]
  },
  {
   "cell_type": "markdown",
   "metadata": {},
   "source": [
    "## Exercise 11"
   ]
  },
  {
   "cell_type": "markdown",
   "metadata": {},
   "source": [
    "Write a Python program to extract values from a given dictionaries and create a list of lists from those values.\n",
    "\n",
    "Original Dictionary:  \n",
    "`[{'student_id': 1, 'name': 'Jean Castro', 'class': 'V'}, {'student_id': 2, 'name': 'Lula Powell', 'class': 'V'}, {'student_id': 3, 'name': 'Brian Howell', 'class': 'VI'}, {'student_id': 4, 'name': 'Lynne Foster', 'class': 'VI'}, {'student_id': 5, 'name': 'Zachary Simon', 'class': 'VII'}]`  \n",
    "Output:  \n",
    "`[[1, 'Jean Castro', 'V'], [2, 'Lula Powell', 'V'], [3, 'Brian Howell', 'VI'], [4, 'Lynne Foster', 'VI'], [5, 'Zachary Simon', 'VII']]`"
   ]
  },
  {
   "cell_type": "code",
   "execution_count": 11,
   "metadata": {},
   "outputs": [
    {
     "data": {
      "text/plain": [
       "[dict_values([1, 'Jean Castro', 'V']),\n",
       " dict_values([2, 'Lula Powell', 'V']),\n",
       " dict_values([3, 'Brian Howell', 'VI']),\n",
       " dict_values([4, 'Lynne Foster', 'VI']),\n",
       " dict_values([5, 'Zachary Simon', 'VII'])]"
      ]
     },
     "execution_count": 11,
     "metadata": {},
     "output_type": "execute_result"
    }
   ],
   "source": [
    "data = [{'student_id': 1, 'name': 'Jean Castro', 'class': 'V'},\n",
    "        {'student_id': 2, 'name': 'Lula Powell', 'class': 'V'}, \n",
    "        {'student_id': 3, 'name': 'Brian Howell', 'class': 'VI'},\n",
    "        {'student_id': 4, 'name': 'Lynne Foster', 'class': 'VI'}, \n",
    "        {'student_id': 5, 'name': 'Zachary Simon', 'class': 'VII'}]\n",
    "\n",
    "\n",
    "[data[i].values() for i in range(0,len(data))]\n",
    "\n"
   ]
  },
  {
   "cell_type": "code",
   "execution_count": null,
   "metadata": {},
   "outputs": [],
   "source": []
  },
  {
   "cell_type": "code",
   "execution_count": null,
   "metadata": {},
   "outputs": [],
   "source": []
  }
 ],
 "metadata": {
  "kernelspec": {
   "display_name": "Python 3",
   "language": "python",
   "name": "python3"
  },
  "language_info": {
   "codemirror_mode": {
    "name": "ipython",
    "version": 3
   },
   "file_extension": ".py",
   "mimetype": "text/x-python",
   "name": "python",
   "nbconvert_exporter": "python",
   "pygments_lexer": "ipython3",
   "version": "3.7.3"
  },
  "vscode": {
   "interpreter": {
    "hash": "916dbcbb3f70747c44a77c7bcd40155683ae19c65e1c03b4aa3499c5328201f1"
   }
  }
 },
 "nbformat": 4,
 "nbformat_minor": 2
}
